{
 "cells": [
  {
   "cell_type": "markdown",
   "metadata": {},
   "source": [
    "# A. Two Sum Related Problems #"
   ]
  },
  {
   "cell_type": "markdown",
   "metadata": {},
   "source": [
    "### Leetcode 1. Two Sum ###\n",
    "\n",
    "### Question: ###\n",
    "\n",
    "Given an array of integers, return indices of the two numbers such that they add up to a specific target.\n",
    "\n",
    "You may assume that each input would have exactly one solution, and you may not use the same element twice.\n",
    "\n",
    "### Example: ###\n",
    "```\n",
    "Given nums = [2, 7, 11, 15], target = 9,\n",
    "Because nums[0] + nums[1] = 2 + 7 = 9,\n",
    "return [0, 1].\n",
    "```"
   ]
  },
  {
   "cell_type": "code",
   "execution_count": 48,
   "metadata": {},
   "outputs": [
    {
     "name": "stdout",
     "output_type": "stream",
     "text": [
      "\n",
      "Two sum combination indices in nums [2, 7, 11, 15] is :\n",
      "[0, 1]\n"
     ]
    }
   ],
   "source": [
    "import collections\n",
    "def twoSum(nums, target):\n",
    "    hashmap = collections.defaultdict()\n",
    "    for i, num in enumerate(nums):\n",
    "        if target-num in hashmap:\n",
    "            return [hashmap[target-num], i]\n",
    "        hashmap[num]=i\n",
    "    return [-1, -1]\n",
    "\n",
    "def testTwoSum():\n",
    "    nums = [2, 7, 11, 15]\n",
    "    target = 9\n",
    "    print('\\nTwo sum combination indices in nums [2, 7, 11, 15] is :')\n",
    "    print(twoSum(nums, target))\n",
    "    \n",
    "testTwoSum()"
   ]
  },
  {
   "cell_type": "markdown",
   "metadata": {},
   "source": [
    "### Leetcode 167. Two Sum II - Input array is sorted ###\n",
    "\n",
    "### Question: ###\n",
    "\n",
    "Given an array of integers that is already sorted in ascending order, find two numbers such that they add up to a specific target number.\n",
    "\n",
    "The function twoSum should return indices of the two numbers such that they add up to the target, where index1 must be less than index2. Please note that your returned answers (both index1 and index2) are not zero-based.\n",
    "\n",
    "You may assume that each input would have exactly one solution and you may not use the same element twice.\n",
    "\n",
    "### Input: ###\n",
    "``` \n",
    "numbers = {2, 7, 11, 15}, target = 9 \n",
    "Output: index1 = 1, index2 = 2\n",
    "```"
   ]
  },
  {
   "cell_type": "code",
   "execution_count": 49,
   "metadata": {},
   "outputs": [
    {
     "name": "stdout",
     "output_type": "stream",
     "text": [
      "\n",
      "Two sum combination indices in nums [2, 7, 11, 15] is :\n",
      "[1, 2]\n"
     ]
    }
   ],
   "source": [
    "def twoSumII(nums, target):\n",
    "    nums.sort()\n",
    "    start, end = 0, len(nums)-1\n",
    "    while start<end:\n",
    "        if nums[start]+nums[end]>target:\n",
    "            end -= 1\n",
    "        elif nums[start]+nums[end]<target:\n",
    "            start += 1\n",
    "        else:\n",
    "            return [start+1, end+1]\n",
    "    return [-1, -1]\n",
    "def testTwoSumII():\n",
    "    nums = [2, 7, 11, 15]\n",
    "    target = 9\n",
    "    print('\\nTwo sum combination indices in nums [2, 7, 11, 15] is :')\n",
    "    print(twoSumII(nums, target))\n",
    "testTwoSumII()"
   ]
  },
  {
   "cell_type": "markdown",
   "metadata": {},
   "source": [
    "### Leetcode 170. Two Sum III - Data structure design ###\n",
    "\n",
    "### Question: ###\n",
    "\n",
    "Design and implement a TwoSum class. It should support the following operations: add and find.\n",
    "\n",
    "add - Add the number to an internal data structure. find - Find if there exists any pair of numbers which sum is equal to the value.\n",
    "```\n",
    "For example,\n",
    "add(1); add(3); add(5);\n",
    "find(4) -> true\n",
    "find(7) -> false\n",
    "```"
   ]
  },
  {
   "cell_type": "code",
   "execution_count": 50,
   "metadata": {},
   "outputs": [
    {
     "name": "stdout",
     "output_type": "stream",
     "text": [
      "defaultdict(None, {})\n",
      "True\n",
      "False\n"
     ]
    }
   ],
   "source": [
    "class twoSumIII():\n",
    "    hashmap = None\n",
    "\n",
    "    def __init__(self):\n",
    "        self.hashmap = collections.defaultdict()\n",
    "    \n",
    "    def add(self, num):\n",
    "        self.hashmap[num] = 1 if num not in self.hashmap else self.hashmap[num]+1\n",
    "        return None\n",
    "    \n",
    "    def find(self, target):\n",
    "        for num in self.hashmap.keys():\n",
    "            if (target-num in self.hashmap and target-num!=num) \\\n",
    "                or (target-num==num and self.hashmap[num]>1):\n",
    "                return True\n",
    "        return False\n",
    "    \n",
    "def testTwoSumIII():\n",
    "    twoSum = twoSumIII()\n",
    "    print(twoSum.hashmap)\n",
    "    for i in [1,3,5]:\n",
    "        twoSum.add(i)\n",
    "    print(twoSum.find(4))\n",
    "    print(twoSum.find(7))\n",
    "    \n",
    "testTwoSumIII()"
   ]
  },
  {
   "cell_type": "markdown",
   "metadata": {},
   "source": [
    "### Leetcode 15. 3Sum ###\n",
    "\n",
    "### Question: ###\n",
    "\n",
    "Given an array S of n integers, are there elements a, b, c in S such that a + b + c = 0? Find all unique triplets in the array which gives the sum of zero.\n",
    "\n",
    "Note: The solution set must not contain duplicate triplets.\n",
    "\n",
    "```\n",
    "For example, given array S = [-1, 0, 1, 2, -1, -4],\n",
    "A solution set is:\n",
    "[\n",
    "  [-1, 0, 1],\n",
    "  [-1, -1, 2]\n",
    "]\n",
    "```"
   ]
  },
  {
   "cell_type": "code",
   "execution_count": 51,
   "metadata": {},
   "outputs": [
    {
     "name": "stdout",
     "output_type": "stream",
     "text": [
      "[[-1, -1, 2], [-1, 0, 1]]\n"
     ]
    }
   ],
   "source": [
    "def threeSum(nums):\n",
    "    res, length = [], len(nums)\n",
    "    if length<3: return res\n",
    "    nums.sort()\n",
    "    for i in range(length-2):\n",
    "        if i > 0 and nums[i] == nums[i-1]:\n",
    "            continue\n",
    "        start, end = i+1, length-1\n",
    "        while start<end:\n",
    "            temp, total = [nums[i], nums[start], nums[end]], nums[i]+nums[start]+nums[end]\n",
    "            if total > 0:\n",
    "                end -= 1\n",
    "            elif total < 0:\n",
    "                start += 1\n",
    "            else:\n",
    "                res.append(temp)\n",
    "                while start < end and nums[start]==nums[start+1]: start += 1\n",
    "                while start < end and nums[end-1]==nums[end]: end -= 1\n",
    "                start += 1; end -= 1\n",
    "    return res \n",
    "\n",
    "def testThreeSum():\n",
    "    S = [-1, 0, 1, 2, -1, -4]\n",
    "    print(threeSum(S))\n",
    "    \n",
    "testThreeSum()"
   ]
  },
  {
   "cell_type": "markdown",
   "metadata": {},
   "source": [
    "### Leetcode 16. 3Sum Closest ###\n",
    "\n",
    "### Question: ###\n",
    "\n",
    "Given an array S of n integers, find three integers in S such that the sum is closest to a given number, target. Return the sum of the three integers. You may assume that each input would have exactly one solution.\n",
    "\n",
    "```\n",
    "For example, given array S = {-1 2 1 -4}, and target = 1.\n",
    "The sum that is closest to the target is 2. (-1 + 2 + 1 = 2).\n",
    "```"
   ]
  },
  {
   "cell_type": "code",
   "execution_count": 52,
   "metadata": {},
   "outputs": [
    {
     "name": "stdout",
     "output_type": "stream",
     "text": [
      "2\n"
     ]
    }
   ],
   "source": [
    "import sys\n",
    "def threeSumClosest(nums, target):\n",
    "    res, length = sys.maxsize, len(nums)\n",
    "    if length < 3: return res\n",
    "    nums.sort()\n",
    "    for i in range(length-2):\n",
    "        if i > 0 and nums[i]==nums[i-1]:\n",
    "            continue\n",
    "        start, end = i+1, length-1\n",
    "        while start < end:\n",
    "            total = nums[i]+nums[start]+nums[end]\n",
    "            res = res if abs(res-target)<abs(total-target) else total\n",
    "            if total > target:\n",
    "                end -= 1\n",
    "            elif total < target:\n",
    "                start += 1\n",
    "            else:\n",
    "                return target\n",
    "    return res\n",
    "\n",
    "def threeSumClosestTest():\n",
    "    S = [-1, 2, 1, -4]\n",
    "    print(threeSumClosest(S, 1))\n",
    "    \n",
    "threeSumClosestTest()"
   ]
  },
  {
   "cell_type": "markdown",
   "metadata": {},
   "source": [
    "### Leetcode 259. 3Sum Smaller ###\n",
    "\n",
    "### Question: ###\n",
    "\n",
    "Given an array of n integers nums and a target, find the number of index triplets i, j, k with 0 <= i < j < k < n that satisfy the condition nums[i] + nums[j] + nums[k] < target.\n",
    "\n",
    "```\n",
    "For example, given nums = [-2, 0, 1, 3], and target = 2.\n",
    "\n",
    "Return 2. Because there are two triplets which sums are less than 2:\n",
    "\n",
    "[-2, 0, 1]\n",
    "[-2, 0, 3]\n",
    "```"
   ]
  },
  {
   "cell_type": "code",
   "execution_count": 53,
   "metadata": {},
   "outputs": [
    {
     "name": "stdout",
     "output_type": "stream",
     "text": [
      "[[-2, 0, 3], [-2, 0, 1]]\n",
      "2\n"
     ]
    }
   ],
   "source": [
    "def threeSumSmaller(nums, target):\n",
    "    res, length = [], len(nums)\n",
    "    if length<3: return res\n",
    "    nums.sort()\n",
    "    for i in range(length-2):\n",
    "        #if i > 0 and nums[i] == nums[i-1]:\n",
    "        #    continue\n",
    "        start, end = i+1, length-1\n",
    "        while start<end:\n",
    "            temp, total = [nums[i], nums[start], nums[end]], nums[i]+nums[start]+nums[end]\n",
    "            if total < target:\n",
    "                res.append(temp)\n",
    "            end -= 1\n",
    "    print(res)\n",
    "    return len(res)\n",
    "\n",
    "def threeSumSmallerTest():\n",
    "    nums = [-2, 0, 1, 3]\n",
    "    print(threeSumSmaller(nums, 2))\n",
    "\n",
    "threeSumSmallerTest()"
   ]
  },
  {
   "cell_type": "markdown",
   "metadata": {},
   "source": [
    "### Leetcode 18. 4Sum ###\n",
    "### Question: ###\n",
    "Given an array S of n integers, are there elements a, b, c, and d in S such that a + b + c + d = target? Find all unique quadruplets in the array which gives the sum of target.\n",
    "\n",
    "Note: The solution set must not contain duplicate quadruplets.\n",
    "```\n",
    "For example, given array S = [1, 0, -1, 0, -2, 2], and target = 0.\n",
    "A solution set is:\n",
    "[\n",
    "  [-1,  0, 0, 1],\n",
    "  [-2, -1, 1, 2],\n",
    "  [-2,  0, 0, 2]\n",
    "]\n",
    "```"
   ]
  },
  {
   "cell_type": "code",
   "execution_count": 54,
   "metadata": {},
   "outputs": [
    {
     "name": "stdout",
     "output_type": "stream",
     "text": [
      "[[-2, -1, 1, 2], [-2, 0, 0, 2], [-1, 0, 0, 1]]\n"
     ]
    }
   ],
   "source": [
    "def fourSum(nums, target):\n",
    "    res, length = [], len(nums)\n",
    "    if length < 3: return res\n",
    "    nums.sort()\n",
    "    for i in range(length-3):\n",
    "        if i > 0 and nums[i]==nums[i-1]:\n",
    "            continue\n",
    "        for j in range(i+1, length-2):\n",
    "            if j > i+1 and nums[j] == nums[j-1]:\n",
    "                continue\n",
    "            start, end, rest = j+1, length-1, target-nums[i]-nums[j]\n",
    "            while start < end:\n",
    "                temp, total = [nums[i], nums[j], nums[start], nums[end]],\\\n",
    "                        nums[i] + nums[j] + nums[start] + nums[end]\n",
    "                if total > 0:\n",
    "                    end -= 1\n",
    "                elif total < 0:\n",
    "                    start += 1\n",
    "                else:\n",
    "                    res.append(temp)\n",
    "                    while start < end and nums[start]==nums[start+1]: start += 1\n",
    "                    while start < end and nums[end-1]==nums[end]: end -= 1\n",
    "                    start += 1; end -= 1\n",
    "    return res\n",
    "\n",
    "def testFourSum():\n",
    "    nums = [1, 0, -1, 0, -2, 2]\n",
    "    print(fourSum(nums, 0))\n",
    "    \n",
    "testFourSum()"
   ]
  },
  {
   "cell_type": "markdown",
   "metadata": {},
   "source": [
    "### Leetcode 454. 4Sum II ###\n",
    "### Question: ###\n",
    "Given four lists A, B, C, D of integer values, compute how many tuples (i, j, k, l) there are such that A[i] + B[j] + C[k] + D[l] is zero.\n",
    "\n",
    "To make problem a bit easier, all A, B, C, D have same length of N where 0 ≤ N ≤ 500. All integers are in the range of -228 to 228 - 1 and the result is guaranteed to be at most 231 - 1.\n",
    "\n",
    "```\n",
    "Example:\n",
    "Input:\n",
    "A = [ 1, 2]\n",
    "B = [-2,-1]\n",
    "C = [-1, 2]\n",
    "D = [ 0, 2]\n",
    "Output:\n",
    "2\n",
    "Explanation:\n",
    "The two tuples are:\n",
    "1. (0, 0, 0, 1) -> A[0] + B[0] + C[0] + D[1] = 1 + (-2) + (-1) + 2 = 0\n",
    "2. (1, 1, 0, 0) -> A[1] + B[1] + C[0] + D[0] = 2 + (-1) + (-1) + 0 = 0\n",
    "```\n",
    "Explanation："
   ]
  },
  {
   "cell_type": "code",
   "execution_count": 40,
   "metadata": {},
   "outputs": [
    {
     "name": "stdout",
     "output_type": "stream",
     "text": [
      "2\n",
      "6\n"
     ]
    }
   ],
   "source": [
    "def fourSumCount( A, B, C, D ):\n",
    "    sum_A_B = collections.Counter([num1+num2 for num1 in A for num2 in B])\n",
    "    sum_C_D = collections.Counter([num1+num2 for num1 in C for num2 in D])\n",
    "    totals = [sum_A_B[num]*sum_C_D[-num] for num in sum_A_B.keys() if -num in sum_C_D.keys()]\n",
    "    return sum(totals)\n",
    "\n",
    "def testFourSumCount():\n",
    "    A1, B1, C1, D1 = [ 1, 2], [-2,-1], [-1, 2], [ 0, 2]\n",
    "    A2, B2, C2, D2 = [-1,-1], [-1,1], [-1,1], [1,-1]\n",
    "    print(fourSumCount( A1, B1, C1, D1 ))\n",
    "    print(fourSumCount( A2, B2, C2, D2 ))\n",
    "\n",
    "testFourSumCount()"
   ]
  }
 ],
 "metadata": {
  "kernelspec": {
   "display_name": "Python 3",
   "language": "python",
   "name": "python3"
  },
  "language_info": {
   "codemirror_mode": {
    "name": "ipython",
    "version": 3
   },
   "file_extension": ".py",
   "mimetype": "text/x-python",
   "name": "python",
   "nbconvert_exporter": "python",
   "pygments_lexer": "ipython3",
   "version": "3.8.0"
  }
 },
 "nbformat": 4,
 "nbformat_minor": 4
}
