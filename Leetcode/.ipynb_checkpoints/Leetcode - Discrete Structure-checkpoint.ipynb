{
 "cells": [
  {
   "cell_type": "code",
   "execution_count": 1,
   "metadata": {},
   "outputs": [],
   "source": [
    "# Definition for singly-linked list.\n",
    "class ListNode:\n",
    "    def __init__(self, x):\n",
    "        self.val = x\n",
    "        self.next = None"
   ]
  },
  {
   "cell_type": "code",
   "execution_count": 4,
   "metadata": {},
   "outputs": [],
   "source": [
    "# Definition for a Node.\n",
    "class Node:\n",
    "    def __init__(self, val, prev, nxt, child):\n",
    "        self.val = val\n",
    "        self.prev = prev\n",
    "        self.next = nxt\n",
    "        self.child = child"
   ]
  },
  {
   "cell_type": "code",
   "execution_count": 5,
   "metadata": {},
   "outputs": [],
   "source": [
    "# Definition for a TreeNode\n",
    "class TreeNode:\n",
    "    def __init__(self, x):\n",
    "        self.val = x\n",
    "        self.left = None\n",
    "        self.right = None"
   ]
  },
  {
   "cell_type": "markdown",
   "metadata": {},
   "source": [
    "### Two Pointers: Next Great Value in An Array#"
   ]
  },
  {
   "cell_type": "code",
   "execution_count": 4,
   "metadata": {},
   "outputs": [
    {
     "name": "stdout",
     "output_type": "stream",
     "text": [
      "[74, 75, 76, 72, 72, 76, -1, -1]\n"
     ]
    }
   ],
   "source": [
    "def nextGreaterValue(xs):\n",
    "    n = len(xs)\n",
    "    stack, res = [], [-1 for i in range(n)]\n",
    "    for i in range(n):\n",
    "        while (stack and xs[i]>xs[stack[-1]]):\n",
    "            idx = stack.pop()\n",
    "            res[idx] = xs[i]\n",
    "        stack.append(i)\n",
    "    return res\n",
    "print(nextGreaterValue([73, 74, 75, 71, 69, 72, 76, 73]))"
   ]
  },
  {
   "cell_type": "code",
   "execution_count": null,
   "metadata": {},
   "outputs": [],
   "source": []
  }
 ],
 "metadata": {
  "kernelspec": {
   "display_name": "Python 3",
   "language": "python",
   "name": "python3"
  },
  "language_info": {
   "codemirror_mode": {
    "name": "ipython",
    "version": 3
   },
   "file_extension": ".py",
   "mimetype": "text/x-python",
   "name": "python",
   "nbconvert_exporter": "python",
   "pygments_lexer": "ipython3",
   "version": "3.7.4"
  }
 },
 "nbformat": 4,
 "nbformat_minor": 4
}
