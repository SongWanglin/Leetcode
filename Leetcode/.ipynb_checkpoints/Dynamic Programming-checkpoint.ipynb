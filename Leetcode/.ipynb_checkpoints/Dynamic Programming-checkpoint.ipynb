{
 "cells": [
  {
   "cell_type": "markdown",
   "metadata": {},
   "source": [
    "### 0/1 Knapsack ###\n",
    "Given weights and values of n items, put these items in a knapsack of capacity W to get the maximum total value in the knapsack. In other words, given two integer arrays val[0..n-1] and wt[0..n-1] which represent values and weights associated with n items respectively. Also given an integer W which represents knapsack capacity, find out the maximum value subset of val[] such that sum of the weights of this subset is smaller than or equal to W. You cannot break an item, either pick the complete item, or don’t pick it (0-1 property)."
   ]
  },
  {
   "cell_type": "code",
   "execution_count": 1,
   "metadata": {},
   "outputs": [],
   "source": [
    "\"\"\" recursive knap sack problem\"\"\"\n",
    "def knap_sack_recursive(capacity, weights, values, n):\n",
    "    if not n or not capacity:\n",
    "        return 0\n",
    "    return knap_sack_recursive(capacity, weights, values, n-1) if weights[n-1]>capacity\\\n",
    "            else max(values[n-1] + knap_sack_recursive(capacity-weights[n-1], weights, values, n-1), \\\n",
    "                     knap_sack_recursive(capacity, weights, values, n-1)) \n",
    "def knap_sack_dp(capacity, weights, values, n):\n",
    "    dp = [[0] *(capacity+1) for i in range(n+1)]\n",
    "    for i in range(1, n+1):\n",
    "        for j in range(1, capacity+1):\n",
    "            ## initial condition: dp[i][j] = 0  for i=0 or j=0\n",
    "            dp[i][j]=dp[i-1][j] if weights[i-1]>capacity else max(values[i-1] + dp[i-1][j-weights[i-1]],  dp[i-1][j]) \n",
    "    return dp[n][capacity]\n",
    "def knap_sack_test1():\n",
    "    values = [60, 100, 120] \n",
    "    weights = [10, 20, 30] \n",
    "    capacity = 50\n",
    "    n = len(values) \n",
    "    print(knap_sack_recursive(capacity, weights, values, n))\n",
    "    print(knap_sack_dp(capacity, weights, values, n))"
   ]
  },
  {
   "cell_type": "markdown",
   "metadata": {},
   "source": [
    "### Partition Equal Subset Sum ###\n",
    "Given a non-empty array containing only positive integers, find if the array can be partitioned into two subsets such that the sum of elements in both subsets is equal.\n",
    "\n",
    "`Note:`\n",
    "\n",
    "Each of the array element will not exceed 100.\n",
    "The array size will not exceed 200.\n",
    "\n",
    "`Example 1:`\n",
    "\n",
    "Input: [1, 5, 11, 5]\n",
    "\n",
    "Output: true\n",
    "\n",
    "Explanation: The array can be partitioned as [1, 5, 5] and [11]. \n",
    "\n",
    "`Example 2:`\n",
    "\n",
    "Input: [1, 2, 3, 5]\n",
    "\n",
    "Output: false\n",
    "\n",
    "Explanation: The array cannot be partitioned into equal sum subsets."
   ]
  },
  {
   "cell_type": "code",
   "execution_count": 2,
   "metadata": {},
   "outputs": [],
   "source": [
    "def canPartition(nums):\n",
    "    total, target = nums[0], sum(nums)//2\n",
    "    def dfs(pos, prefix_sum):\n",
    "        if prefix_sum==target:\n",
    "            return True\n",
    "        res = False\n",
    "        for i in range(pos+1, len(nums)):\n",
    "            res |= dfs(i, prefix_sum+nums[i])\n",
    "        return res\n",
    "    return dfs(0, total)\n",
    "\n",
    "def canPartitionDP(nums):\n",
    "    total = sum(nums)\n",
    "    if total%2!=0: return False\n",
    "    dp = [False for i in range(total//2+1)]\n",
    "    dp[0] = True\n",
    "    for i in range(0, len(nums)):\n",
    "        for j in range(total//2, nums[i]-1, -1):\n",
    "            dp[j] |= dp[j-nums[i]]\n",
    "    return dp[total//2]\n",
    "\n",
    "def partition_test():\n",
    "    nums = [1,5,11,5]\n",
    "    print(canPartition(nums))\n",
    "    print(canPartitionDP(nums))"
   ]
  },
  {
   "cell_type": "markdown",
   "metadata": {},
   "source": [
    "### Partition to K Equal Sum Subsets ###\n",
    "Given an array of integers nums and a positive integer k, find whether it's possible to divide this array into k non-empty subsets whose sums are all equal.\n",
    "\n",
    "`Example 1:`\n",
    "\n",
    "Input: nums = [4, 3, 2, 3, 5, 2, 1], k = 4\n",
    "\n",
    "Output: True\n",
    "\n",
    "Explanation: It's possible to divide it into 4 subsets (5), (1, 4), (2,3), (2,3) with equal sums. \n",
    "\n",
    "`Note:`\n",
    "\n",
    "1 <= k <= len(nums) <= 16.\n",
    "\n",
    "0 < nums[i] < 10000."
   ]
  },
  {
   "cell_type": "code",
   "execution_count": 3,
   "metadata": {},
   "outputs": [],
   "source": [
    "class PartitionKSubsets:  \n",
    "    def canPartitionKSubsets_DP(self, nums, k):\n",
    "        total, length = sum(nums), len(nums)\n",
    "        nums.sort(reverse=True)\n",
    "        if length<k or total%k!=0:\n",
    "            return False\n",
    "        target = [total/k] * k\n",
    "        return self.dfs(nums, length, target, k, 0)\n",
    "    \n",
    "    def dfs(self, nums, length, target, k, pos):\n",
    "        if pos==length: return True\n",
    "        for i in range(k):\n",
    "            if target[i]<nums[pos]:\n",
    "                continue\n",
    "            target[i]-=nums[pos]\n",
    "            if self.dfs(nums, length, target, k, pos+1): return True\n",
    "            target[i]+=nums[pos]\n",
    "        return False\n",
    "    def test(self):\n",
    "        nums = [4, 3, 2, 3, 5, 2, 1]\n",
    "        print(self.canPartitionKSubsets_DP(nums, 4))"
   ]
  },
  {
   "cell_type": "code",
   "execution_count": 4,
   "metadata": {},
   "outputs": [
    {
     "name": "stdout",
     "output_type": "stream",
     "text": [
      "220\n",
      "220\n",
      "True\n",
      "True\n",
      "True\n"
     ]
    }
   ],
   "source": [
    "if __name__ == \"__main__\": \n",
    "    knap_sack_test1()\n",
    "    partition_test()\n",
    "    partition_k = PartitionKSubsets()\n",
    "    partition_k.test()"
   ]
  },
  {
   "cell_type": "code",
   "execution_count": null,
   "metadata": {},
   "outputs": [],
   "source": []
  }
 ],
 "metadata": {
  "kernelspec": {
   "display_name": "Python 3",
   "language": "python",
   "name": "python3"
  },
  "language_info": {
   "codemirror_mode": {
    "name": "ipython",
    "version": 3
   },
   "file_extension": ".py",
   "mimetype": "text/x-python",
   "name": "python",
   "nbconvert_exporter": "python",
   "pygments_lexer": "ipython3",
   "version": "3.7.4"
  }
 },
 "nbformat": 4,
 "nbformat_minor": 4
}
