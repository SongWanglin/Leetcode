{
 "cells": [
  {
   "cell_type": "markdown",
   "metadata": {},
   "source": [
    "### Graph Representation ###\n",
    "Sparse graph -- Adjacency list\n",
    "\n",
    "Dense graph -- Adjacency matrix\n"
   ]
  },
  {
   "cell_type": "code",
   "execution_count": null,
   "metadata": {},
   "outputs": [],
   "source": []
  },
  {
   "cell_type": "markdown",
   "metadata": {},
   "source": [
    "### Breath First Search ###\n",
    "One of the simplest algorithms for searching a graph and the archetype for many important graph algorithms. The below BFS precedure assumes that the input graph G = (V, E) is represented using adjacency lists.\n",
    "The algorithm also uses a first-in, first-out queue Q to manage the set of gray vertices.\n",
    "\n",
    "$\\;\\;\\;\\;$BFS(G, S)\n",
    "\n",
    "$\\;\\;\\;\\;\\;\\;\\;\\;$for each vertex u $\\in$ G.V - {s}\n",
    "    \n",
    "$\\;\\;\\;\\;\\;\\;\\;\\;\\;\\;\\;\\;$ u.color = WHITE\n",
    "        \n",
    "$\\;\\;\\;\\;\\;\\;\\;\\;\\;\\;\\;\\;$ u.d = $\\infty $\n",
    "\n",
    "$\\;\\;\\;\\;\\;\\;\\;\\;\\;\\;\\;\\;$ u.$\\pi$ = $NIL$\n",
    "\n",
    "$\\;\\;\\;\\;\\;\\;\\;\\;$ s.color  = $GRAY$\n",
    "\n",
    "$\\;\\;\\;\\;\\;\\;\\;\\;$ s.d = 0\n",
    "\n",
    "$\\;\\;\\;\\;\\;\\;\\;\\;$ s.$\\pi$ = $NIL$\n",
    "\n",
    "$\\;\\;\\;\\;\\;\\;\\;\\;$ Q = $\\emptyset\\$\n",
    "\n",
    "$\\;\\;\\;\\;\\;\\;\\;\\;$ ENQUEUE(Q, s)\n",
    "\n",
    "$\\;\\;\\;\\;\\;\\;\\;\\;$ while Q $\\neq$ $\\emptyset\\$\n",
    "\n",
    "$\\;\\;\\;\\;\\;\\;\\;\\;\\;\\;\\;\\;$ u = DEQUEUE(Q)\n",
    "\n",
    "$\\;\\;\\;\\;\\;\\;\\;\\;\\;\\;\\;\\;$ for each v $\\in$ G.Adj[u]\n",
    "\n",
    "$\\;\\;\\;\\;\\;\\;\\;\\;\\;\\;\\;\\;\\;\\;\\;\\;$ if v.color == WHITE\n",
    "\n",
    "$\\;\\;\\;\\;\\;\\;\\;\\;\\;\\;\\;\\;\\;\\;\\;\\;\\;\\;\\;\\;$ v.color := GRAY\n",
    "\n",
    "$\\;\\;\\;\\;\\;\\;\\;\\;\\;\\;\\;\\;\\;\\;\\;\\;\\;\\;\\;\\;$ v.d = u.d + 1\n",
    "\n",
    "$\\;\\;\\;\\;\\;\\;\\;\\;\\;\\;\\;\\;\\;\\;\\;\\;\\;\\;\\;\\;$ v.$\\pi$ = u\n",
    "\n",
    "$\\;\\;\\;\\;\\;\\;\\;\\;\\;\\;\\;\\;\\;\\;\\;\\;\\;\\;\\;\\;$ ENQUEUE(Q, v)\n",
    "\n",
    "$\\;\\;\\;\\;\\;\\;\\;\\;\\;\\;\\;\\;\\;\\;\\;\\;$ u.color := $BLACK$\n",
    "\n"
   ]
  },
  {
   "cell_type": "code",
   "execution_count": null,
   "metadata": {},
   "outputs": [],
   "source": []
  },
  {
   "cell_type": "markdown",
   "metadata": {},
   "source": [
    "### Shortest Paths ###\n",
    "\n",
    "At the beginning of this section, we claimed that breadth-first search finds the distance to each reachable vertex in a graph G = (V, E) from a given source vertex s $\\in$ V. Define the `shortest-path distance` $\\delta$(s, v) from s to v as the minimum number of edges in any path from vertex ss to vertex v; if there is no path from s to v, then $\\delta$(s, v)=$\\infty$. We call a path of length $\\delta$(s, v) from s to v a shortest path from s to v.\n",
    "\n",
    "The following procedure prints out the vertices on a shortest path from s to v, assuming that BFS has already computed a breath-first tree\n",
    "\n",
    "$\\;\\;\\;\\;$ PRINT-PATH(G, s, v)\n",
    "\n",
    "$\\;\\;\\;\\;\\;\\;\\;\\;$ if v==s\n",
    "\n",
    "$\\;\\;\\;\\;\\;\\;\\;\\;\\;\\;\\;\\;$ print s\n",
    "\n",
    "$\\;\\;\\;\\;\\;\\;\\;\\;$ elseif v.$\\pi$==$NIL$\n",
    "\n",
    "$\\;\\;\\;\\;\\;\\;\\;\\;\\;\\;\\;\\;$ print \"no path from\" s \"to\" v \"exists\"\n",
    "\n",
    "$\\;\\;\\;\\;\\;\\;\\;\\;$ else PRINT-PATH(G, s, v.$\\pi$)\n",
    "\n",
    "$\\;\\;\\;\\;\\;\\;\\;\\;\\;\\;\\;\\;$ print v"
   ]
  },
  {
   "cell_type": "code",
   "execution_count": null,
   "metadata": {},
   "outputs": [],
   "source": []
  },
  {
   "cell_type": "markdown",
   "metadata": {},
   "source": [
    "### Depth-first Search ###\n",
    "\n",
    "Unlike breadth-first search, whose predecessor subgraph forms a tree, the predecessor subgraph produced by a depth first searchg may be composed of several trees, because the search may repeat from multiple sources. Therefore, we define the `predecessor subgraph` fof a depth-first search slightly differently from that of a breadth-first search: \n",
    "we let $G_{\\pi}$ = ( $V$, $E_{\\pi}$ ), where\n",
    "\n",
    "$E_{\\pi}$ = {(v.$pi$, v) : v$\\in$V and v.$\\pi$ $\\neq$ $NIL$ }\n",
    "\n",
    "The predecessor subgraph of a depth-first search forms a depth-first forest comprising several depth-first trees. The edges in $E_{\\pi}$ are tree edges.\n",
    "\n",
    "The following pseudocode is the basic depth-first-search algorithm. The input graph G may be undirected or directed. The variable time is a global variable that we use for timestamping.\n",
    "\n",
    "$\\;\\;\\;\\;$ DFS(G)\n",
    "\n",
    "$\\;\\;\\;\\;\\;\\;\\;\\;$ for each vertex u $\\in$ G.V\n",
    "\n",
    "$\\;\\;\\;\\;\\;\\;\\;\\;\\;\\;\\;\\;$ u.color := $WHITE$\n",
    "\n",
    "$\\;\\;\\;\\;\\;\\;\\;\\;\\;\\;\\;\\;$ u.$\\pi$ := $NIL$\n",
    "\n",
    "$\\;\\;\\;\\;\\;\\;\\;\\;$ time = 0\n",
    "\n",
    "$\\;\\;\\;\\;\\;\\;\\;\\;$ for each vertex u $\\in$ G.V\n",
    "\n",
    "$\\;\\;\\;\\;\\;\\;\\;\\;\\;\\;\\;\\;$ if u.color == WHITE\n",
    "\n",
    "$\\;\\;\\;\\;\\;\\;\\;\\;\\;\\;\\;\\;\\;\\;\\;\\;$ DFS-VISIT(G, u)\n",
    "\n",
    "$\\;\\;\\;\\;$ DFS-VISIT(G, u)\n",
    "\n",
    "$\\;\\;\\;\\;\\;\\;\\;\\;$ time = time + 1 //white vertex u has just been discovered\n",
    "\n",
    "$\\;\\;\\;\\;\\;\\;\\;\\;$ u.d := time \n",
    "\n",
    "$\\;\\;\\;\\;\\;\\;\\;\\;$ u.color := $GRAY$\n",
    "\n",
    "$\\;\\;\\;\\;\\;\\;\\;\\;$ for each v $\\in$ G.Adj[u]\n",
    "\n",
    "$\\;\\;\\;\\;\\;\\;\\;\\;\\;\\;\\;\\;$ if v.color == $WHITE$\n",
    "\n",
    "$\\;\\;\\;\\;\\;\\;\\;\\;\\;\\;\\;\\;\\;\\;\\;\\;$ v.$\\pi$ := u\n",
    "\n",
    "$\\;\\;\\;\\;\\;\\;\\;\\;\\;\\;\\;\\;\\;\\;\\;\\;$ DFS-VISIT(G, v)\n",
    "\n",
    "$\\;\\;\\;\\;\\;\\;\\;\\;$ u.color := $BLACK$\n",
    "\n",
    "$\\;\\;\\;\\;\\;\\;\\;\\;$ time := time + 1\n",
    "\n",
    "$\\;\\;\\;\\;\\;\\;\\;\\;$ u.f := time\n"
   ]
  },
  {
   "cell_type": "code",
   "execution_count": null,
   "metadata": {},
   "outputs": [],
   "source": []
  },
  {
   "cell_type": "markdown",
   "metadata": {},
   "source": [
    "### Topological sort ###\n",
    "This section shows how we can use depth-first search to perform a topological sort of a directed acyclic graph (DAG). A `topological sort` of a dag G = (V,E) is a linear ordering of all its vertices such that if G contains an edge (u, v), then u appears before v in the ordering.\n",
    "The following simple algorithm topologically sorts a dag:\n",
    "\n",
    "$\\;\\;\\;\\;$ TOPOLOGICAL-SORT(G)\n",
    "\n",
    "$\\;\\;\\;\\;\\;\\;\\;\\;$ 1. call DFS(G) to compute finishing times v.f for each vertex v\n",
    "\n",
    "$\\;\\;\\;\\;\\;\\;\\;\\;$ 2. as each vertex is finished , insert it onto the front of a linked list\n",
    "\n",
    "$\\;\\;\\;\\;\\;\\;\\;\\;$ 3. return the linked list of vertices\n"
   ]
  },
  {
   "cell_type": "code",
   "execution_count": null,
   "metadata": {},
   "outputs": [],
   "source": []
  },
  {
   "cell_type": "markdown",
   "metadata": {},
   "source": [
    "### Strongly connected components  (Union find) ###\n",
    "\n",
    "A classic application of depth-first search: decomposing a directed graph into its strongly connected components. This section shows how to do so using two depth-first searches. Many algorithms that work with directed graphs begin with such a decomposition.\n",
    "\n",
    "A strongly connected component of a directed graph G = (V, E) is a maximal set of vertices C $\\subseteq$ V such that for every pair of vertices u and v in C, we have both u $\\rightarrow$ v and v $\\rightarrow$ u; that is, vertices u and v are reachable from each other.\n",
    "\n",
    "### Tarjan's algorithm ###\n",
    "$\\;\\;\\;\\;$ STRONGLY-CONNECTED-COMPONENTS(G)\n",
    "\n",
    "$\\;\\;\\;\\;\\;\\;\\;\\;$ 1. call DFS(G) to compute finishing times u.f for each vertex u\n",
    "\n",
    "$\\;\\;\\;\\;\\;\\;\\;\\;$ 2. compute $G^{T}$\n",
    "\n",
    "$\\;\\;\\;\\;\\;\\;\\;\\;$ 3. call DFS($G^{T}$), but in the main loop of DFS. consider the vertices in order of decreasing u.f (as computed in line 1)\n",
    "\n",
    "$\\;\\;\\;\\;\\;\\;\\;\\;$ 4. output the vertices of each tree in the depth-first forest formed in line 3 as a separate strongly connected component."
   ]
  },
  {
   "cell_type": "code",
   "execution_count": null,
   "metadata": {},
   "outputs": [],
   "source": []
  },
  {
   "cell_type": "markdown",
   "metadata": {},
   "source": [
    "### Minimum Spanning Tree ###"
   ]
  },
  {
   "cell_type": "code",
   "execution_count": null,
   "metadata": {},
   "outputs": [],
   "source": []
  },
  {
   "cell_type": "code",
   "execution_count": null,
   "metadata": {},
   "outputs": [],
   "source": []
  }
 ],
 "metadata": {
  "kernelspec": {
   "display_name": "Python 3",
   "language": "python",
   "name": "python3"
  },
  "language_info": {
   "codemirror_mode": {
    "name": "ipython",
    "version": 3
   },
   "file_extension": ".py",
   "mimetype": "text/x-python",
   "name": "python",
   "nbconvert_exporter": "python",
   "pygments_lexer": "ipython3",
   "version": "3.7.4"
  }
 },
 "nbformat": 4,
 "nbformat_minor": 2
}
